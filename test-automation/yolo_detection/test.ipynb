{
 "cells": [
  {
   "cell_type": "code",
   "execution_count": 1,
   "id": "11d2aaca",
   "metadata": {},
   "outputs": [],
   "source": [
    "from inference_sdk import InferenceHTTPClient\n",
    "\n",
    "client = InferenceHTTPClient(\n",
    "    api_url=\"https://serverless.roboflow.com\",\n",
    "    api_key=\"Pmpz4ahJVG5K9lOVD8JN\"\n",
    ")\n",
    "\n",
    "result = client.run_workflow(\n",
    "    workspace_name=\"tiktok-qz4gk\",\n",
    "    workflow_id=\"custom-workflow\",\n",
    "    images={\n",
    "        \"image\": \"/Users/phonavitra/Desktop/Summer Project 2025/TecJam 2025 AutoGUI/screenshots/Screenshot_1756540676.png\"\n",
    "    },\n",
    "    use_cache=True\n",
    ")\n"
   ]
  },
  {
   "cell_type": "code",
   "execution_count": 3,
   "id": "03955edb",
   "metadata": {},
   "outputs": [
    {
     "data": {
      "text/plain": [
       "True"
      ]
     },
     "execution_count": 3,
     "metadata": {},
     "output_type": "execute_result"
    }
   ],
   "source": [
    "import cv2\n",
    "\n",
    "image_path = \"/Users/phonavitra/Desktop/Summer Project 2025/TecJam 2025 AutoGUI/screenshots/Screenshot_1756540676.png\"\n",
    "image = cv2.imread(image_path)\n",
    "\n",
    "# --- Step 3: Draw boxes and center points ---\n",
    "confidence_threshold = 0.98\n",
    "\n",
    "for prediction in result[0]['output']['predictions']:\n",
    "    if prediction['confidence'] < confidence_threshold:\n",
    "        continue  # Skip low-confidence predictions\n",
    "\n",
    "    x_center = prediction['x']\n",
    "    y_center = prediction['y']\n",
    "    width = prediction['width']\n",
    "    height = prediction['height']\n",
    "    class_name = prediction['class']\n",
    "    \n",
    "    # Compute top-left and bottom-right corners of the box\n",
    "    x1 = int(x_center - width / 2)\n",
    "    y1 = int(y_center - height / 2)\n",
    "    x2 = int(x_center + width / 2)\n",
    "    y2 = int(y_center + height / 2)\n",
    "    \n",
    "    # Draw rectangle (bounding box)\n",
    "    cv2.rectangle(image, (x1, y1), (x2, y2), (0, 255, 0), 2)\n",
    "    \n",
    "    # Draw center point\n",
    "    cv2.circle(image, (int(x_center), int(y_center)), 5, (0, 0, 255), -1)\n",
    "    \n",
    "    # Put class label\n",
    "    cv2.putText(image, class_name, (x1, y1 - 10),\n",
    "                cv2.FONT_HERSHEY_SIMPLEX, 0.9, (255, 0, 0), 2)\n",
    "\n",
    "# --- Optional: Save the result ---\n",
    "cv2.imwrite(\"output.jpg\", image)"
   ]
  },
  {
   "cell_type": "code",
   "execution_count": null,
   "id": "2a8dc393",
   "metadata": {},
   "outputs": [],
   "source": []
  }
 ],
 "metadata": {
  "kernelspec": {
   "display_name": ".venv_detection (3.11.8)",
   "language": "python",
   "name": "python3"
  },
  "language_info": {
   "codemirror_mode": {
    "name": "ipython",
    "version": 3
   },
   "file_extension": ".py",
   "mimetype": "text/x-python",
   "name": "python",
   "nbconvert_exporter": "python",
   "pygments_lexer": "ipython3",
   "version": "3.11.8"
  }
 },
 "nbformat": 4,
 "nbformat_minor": 5
}
